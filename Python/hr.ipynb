{
 "cells": [
  {
   "cell_type": "code",
   "execution_count": 1,
   "id": "16359723",
   "metadata": {},
   "outputs": [
    {
     "data": {
      "text/plain": [
       "array([1., 2., 3., 4., 5., 6., 7., 8., 9.])"
      ]
     },
     "execution_count": 1,
     "metadata": {},
     "output_type": "execute_result"
    }
   ],
   "source": [
    "import numpy as np\n",
    "\n",
    "my_array =  np.array([1.1, 2.2, 3.3, 4.4, 5.5, 6.6, 7.7, 8.8, 9.9])\n",
    "np.floor(my_array)         #[ 1.  2.  3.  4.  5.  6.  7.  8.  9.]"
   ]
  },
  {
   "cell_type": "code",
   "execution_count": 2,
   "id": "fe63a52e",
   "metadata": {},
   "outputs": [
    {
     "data": {
      "text/plain": [
       "array([ 2.,  3.,  4.,  5.,  6.,  7.,  8.,  9., 10.])"
      ]
     },
     "execution_count": 2,
     "metadata": {},
     "output_type": "execute_result"
    }
   ],
   "source": [
    "np.ceil(my_array)"
   ]
  },
  {
   "cell_type": "code",
   "execution_count": 3,
   "id": "799fbf04",
   "metadata": {},
   "outputs": [
    {
     "data": {
      "text/plain": [
       "array([ 1.,  2.,  3.,  4.,  6.,  7.,  8.,  9., 10.])"
      ]
     },
     "execution_count": 3,
     "metadata": {},
     "output_type": "execute_result"
    }
   ],
   "source": [
    "np.rint(my_array)"
   ]
  },
  {
   "cell_type": "code",
   "execution_count": 4,
   "id": "247fa63e",
   "metadata": {},
   "outputs": [
    {
     "data": {
      "text/plain": [
       "array([[ 2,  3],\n",
       "       [28,  2]])"
      ]
     },
     "execution_count": 4,
     "metadata": {},
     "output_type": "execute_result"
    }
   ],
   "source": [
    "np.array([[2,3],[28,2]])                          \n"
   ]
  },
  {
   "cell_type": "code",
   "execution_count": null,
   "id": "f1c52092",
   "metadata": {},
   "outputs": [
    {
     "data": {
      "text/plain": [
       "array([2, 8])"
      ]
     },
     "execution_count": 17,
     "metadata": {},
     "output_type": "execute_result"
    }
   ],
   "source": [
    "np.array(list(map(int,input().split())))"
   ]
  },
  {
   "cell_type": "code",
   "execution_count": null,
   "id": "286c5cb7",
   "metadata": {},
   "outputs": [],
   "source": [
    "matrix_of_row_col= np.array(list(map(int,input().split())))\n",
    "first_matrix=np.array(list(map(int,input().split())))\n",
    "second_matrix=np.array(list(map(int,input().split())))\n",
    "final_matrix=[first_matrix,second_matrix]\n"
   ]
  },
  {
   "cell_type": "code",
   "execution_count": null,
   "id": "f8c8d21e",
   "metadata": {},
   "outputs": [],
   "source": [
    "mat_size=np.array(list(map(int,input().split())))\n",
    "f_mat=[]\n",
    "for i in range((mat_size[0])):\n",
    "    f_mat.append(np.array(list(map(int,input().split()))))\n",
    "\n",
    "f_mat=np.array(f_mat)\n"
   ]
  },
  {
   "cell_type": "code",
   "execution_count": null,
   "id": "8288cdf0",
   "metadata": {},
   "outputs": [
    {
     "data": {
      "text/plain": [
       "array([[ 3, 29],\n",
       "       [29,  3]])"
      ]
     },
     "execution_count": 44,
     "metadata": {},
     "output_type": "execute_result"
    }
   ],
   "source": [
    "f_mat"
   ]
  },
  {
   "cell_type": "code",
   "execution_count": null,
   "id": "6bd19ac8",
   "metadata": {},
   "outputs": [
    {
     "data": {
      "text/plain": [
       "1024"
      ]
     },
     "execution_count": 49,
     "metadata": {},
     "output_type": "execute_result"
    }
   ],
   "source": [
    "res=int(np.prod(np.sum(np.array(f_mat),axis=0)))\n",
    "res"
   ]
  },
  {
   "cell_type": "code",
   "execution_count": null,
   "id": "b5873c6c",
   "metadata": {},
   "outputs": [
    {
     "data": {
      "text/plain": [
       "'2'"
      ]
     },
     "execution_count": 56,
     "metadata": {},
     "output_type": "execute_result"
    }
   ],
   "source": [
    "input()"
   ]
  },
  {
   "cell_type": "code",
   "execution_count": 2,
   "id": "b8f765f0",
   "metadata": {},
   "outputs": [],
   "source": [
    "import numpy as np\n",
    "mat_size=np.array(list(map(int,input().split())))"
   ]
  },
  {
   "cell_type": "code",
   "execution_count": 10,
   "id": "5a57772a",
   "metadata": {},
   "outputs": [
    {
     "data": {
      "text/plain": [
       "[8, 3]"
      ]
     },
     "execution_count": 10,
     "metadata": {},
     "output_type": "execute_result"
    }
   ],
   "source": [
    "list(map(int,input().split()))"
   ]
  },
  {
   "cell_type": "code",
   "execution_count": 3,
   "id": "b93ea5bd",
   "metadata": {},
   "outputs": [
    {
     "data": {
      "text/plain": [
       "array([2, 8])"
      ]
     },
     "execution_count": 3,
     "metadata": {},
     "output_type": "execute_result"
    }
   ],
   "source": [
    "mat_size"
   ]
  },
  {
   "cell_type": "code",
   "execution_count": 11,
   "id": "13a9d0a2",
   "metadata": {},
   "outputs": [
    {
     "data": {
      "text/plain": [
       "array([[ 3, 82],\n",
       "       [ 9,  1]])"
      ]
     },
     "execution_count": 11,
     "metadata": {},
     "output_type": "execute_result"
    }
   ],
   "source": [
    "np.array([  list(map(int,input().split())) for i in range(mat_size[0])])"
   ]
  },
  {
   "cell_type": "code",
   "execution_count": null,
   "id": "0759fe3f",
   "metadata": {},
   "outputs": [],
   "source": [
    "N, M = map(int, raw_input().split())\n",
    "\n",
    "my_array = numpy.array([ map(int, raw_input().split()) for i in range(N) ])\n",
    "print numpy.prod( numpy.sum( my_array, axis = 0 ) )"
   ]
  },
  {
   "cell_type": "code",
   "execution_count": 12,
   "id": "0daaad3e",
   "metadata": {},
   "outputs": [
    {
     "name": "stdout",
     "output_type": "stream",
     "text": [
      "[2.5 5. ]\n",
      "[9.   0.25]\n",
      "2.48746859276655\n"
     ]
    }
   ],
   "source": [
    "import numpy as np \n",
    "mat_size=list(map(int,input().split()))\n",
    "mat=np.array([ list(map(int,input().split())) for i in range(mat_size[0])])\n",
    "print(np.mean(mat,axis=1))\n",
    "print(np.var(mat,axis=0))\n",
    "print(np.std(mat))"
   ]
  },
  {
   "cell_type": "code",
   "execution_count": null,
   "id": "c4e1367d",
   "metadata": {},
   "outputs": [],
   "source": []
  }
 ],
 "metadata": {
  "kernelspec": {
   "display_name": "myenv",
   "language": "python",
   "name": "python3"
  },
  "language_info": {
   "codemirror_mode": {
    "name": "ipython",
    "version": 3
   },
   "file_extension": ".py",
   "mimetype": "text/x-python",
   "name": "python",
   "nbconvert_exporter": "python",
   "pygments_lexer": "ipython3",
   "version": "3.12.4"
  }
 },
 "nbformat": 4,
 "nbformat_minor": 5
}

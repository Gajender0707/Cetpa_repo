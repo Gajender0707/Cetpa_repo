{
 "cells": [
  {
   "cell_type": "code",
   "execution_count": 63,
   "id": "bf90d800",
   "metadata": {},
   "outputs": [
    {
     "name": "stdout",
     "output_type": "stream",
     "text": [
      "10\n"
     ]
    }
   ],
   "source": [
    "print(int(input(\"Enter the first Number: \"))+int(input(\"Enter the 2nd number: \")))"
   ]
  },
  {
   "cell_type": "code",
   "execution_count": 64,
   "id": "be129fe2",
   "metadata": {},
   "outputs": [
    {
     "name": "stdout",
     "output_type": "stream",
     "text": [
      "<class 'int'> 5\n"
     ]
    }
   ],
   "source": [
    "a=5\n",
    "print(type(a),a)"
   ]
  },
  {
   "cell_type": "code",
   "execution_count": 65,
   "id": "c1bee46c",
   "metadata": {},
   "outputs": [
    {
     "name": "stdout",
     "output_type": "stream",
     "text": [
      "-95\n"
     ]
    }
   ],
   "source": [
    "print(~94)"
   ]
  },
  {
   "cell_type": "code",
   "execution_count": 66,
   "id": "4bf6a0fd",
   "metadata": {},
   "outputs": [
    {
     "name": "stdout",
     "output_type": "stream",
     "text": [
      "0\n"
     ]
    }
   ],
   "source": [
    "print(0 and 1 )"
   ]
  },
  {
   "cell_type": "code",
   "execution_count": 67,
   "id": "61e76b6c",
   "metadata": {},
   "outputs": [
    {
     "name": "stdout",
     "output_type": "stream",
     "text": [
      "False\n"
     ]
    }
   ],
   "source": [
    "print(not 10)"
   ]
  },
  {
   "cell_type": "code",
   "execution_count": 68,
   "id": "117b420e",
   "metadata": {},
   "outputs": [
    {
     "name": "stdout",
     "output_type": "stream",
     "text": [
      "True\n"
     ]
    }
   ],
   "source": [
    "print(not 0)"
   ]
  },
  {
   "cell_type": "code",
   "execution_count": 69,
   "id": "b812af63",
   "metadata": {},
   "outputs": [
    {
     "name": "stdout",
     "output_type": "stream",
     "text": [
      "2\n"
     ]
    }
   ],
   "source": [
    "print(2&6)"
   ]
  },
  {
   "cell_type": "code",
   "execution_count": 70,
   "id": "ebba089d",
   "metadata": {},
   "outputs": [
    {
     "name": "stdout",
     "output_type": "stream",
     "text": [
      "9\n"
     ]
    },
    {
     "data": {
      "text/plain": [
       "0"
      ]
     },
     "execution_count": 70,
     "metadata": {},
     "output_type": "execute_result"
    }
   ],
   "source": [
    "print(9&9)\n",
    "8&2"
   ]
  },
  {
   "cell_type": "code",
   "execution_count": 71,
   "id": "61b30c3f",
   "metadata": {},
   "outputs": [
    {
     "name": "stdout",
     "output_type": "stream",
     "text": [
      "1536\n"
     ]
    }
   ],
   "source": [
    "print(6<<8)"
   ]
  },
  {
   "cell_type": "code",
   "execution_count": 72,
   "id": "f3266fc8",
   "metadata": {},
   "outputs": [
    {
     "name": "stdout",
     "output_type": "stream",
     "text": [
      "1536\n"
     ]
    }
   ],
   "source": [
    "print(6*2**8)"
   ]
  },
  {
   "cell_type": "code",
   "execution_count": 73,
   "id": "a78ebd09",
   "metadata": {},
   "outputs": [
    {
     "name": "stdout",
     "output_type": "stream",
     "text": [
      "4301791880 4301791880\n"
     ]
    }
   ],
   "source": [
    "a=2\n",
    "b=2\n",
    "print(id(a),id(b))"
   ]
  },
  {
   "cell_type": "code",
   "execution_count": 74,
   "id": "d85afc98",
   "metadata": {},
   "outputs": [
    {
     "data": {
      "text/plain": [
       "True"
      ]
     },
     "execution_count": 74,
     "metadata": {},
     "output_type": "execute_result"
    }
   ],
   "source": [
    "a is b"
   ]
  },
  {
   "cell_type": "code",
   "execution_count": 75,
   "id": "c0d3c40e",
   "metadata": {},
   "outputs": [
    {
     "name": "stdout",
     "output_type": "stream",
     "text": [
      "4301792072 4301792072\n"
     ]
    }
   ],
   "source": [
    "a=8\n",
    "b=9\n",
    "b=a\n",
    "print(id(a),id(b))"
   ]
  },
  {
   "cell_type": "code",
   "execution_count": 76,
   "id": "d2520388",
   "metadata": {},
   "outputs": [
    {
     "name": "stdout",
     "output_type": "stream",
     "text": [
      "odd\n"
     ]
    }
   ],
   "source": [
    "# ternary operations\n",
    "a=input()[-1]\n",
    "if int(a)%2==0:\n",
    "    print(\"even\")\n",
    "else:\n",
    "    print(\"odd\")"
   ]
  },
  {
   "cell_type": "code",
   "execution_count": 77,
   "id": "8b24fa88",
   "metadata": {},
   "outputs": [
    {
     "name": "stdout",
     "output_type": "stream",
     "text": [
      "ollleH\n"
     ]
    }
   ],
   "source": [
    "s=\"Helllo\"\n",
    "print(s[::-1])"
   ]
  },
  {
   "cell_type": "code",
   "execution_count": 78,
   "id": "6a5d5dc8",
   "metadata": {},
   "outputs": [
    {
     "name": "stdout",
     "output_type": "stream",
     "text": [
      "False\n"
     ]
    }
   ],
   "source": [
    "print(s[::-1]==s)"
   ]
  },
  {
   "cell_type": "code",
   "execution_count": 79,
   "id": "7121febd",
   "metadata": {},
   "outputs": [],
   "source": [
    "## String"
   ]
  },
  {
   "cell_type": "code",
   "execution_count": 80,
   "id": "8e9653de",
   "metadata": {},
   "outputs": [
    {
     "name": "stdout",
     "output_type": "stream",
     "text": [
      "*****\n",
      "****\n",
      "***\n",
      "**\n",
      "*\n"
     ]
    }
   ],
   "source": [
    "for i in range(5,0,-1):\n",
    "    print(i*\"*\")"
   ]
  },
  {
   "cell_type": "code",
   "execution_count": 81,
   "id": "14752587",
   "metadata": {},
   "outputs": [
    {
     "name": "stdout",
     "output_type": "stream",
     "text": [
      "*****\n",
      "****\n",
      "***\n",
      "**\n",
      "*\n"
     ]
    },
    {
     "data": {
      "text/plain": [
       "[None, None, None, None, None]"
      ]
     },
     "execution_count": 81,
     "metadata": {},
     "output_type": "execute_result"
    }
   ],
   "source": [
    "[print(i*\"*\") for i in range(5,0,-1)]"
   ]
  },
  {
   "cell_type": "code",
   "execution_count": 82,
   "id": "763ccaa1",
   "metadata": {},
   "outputs": [
    {
     "ename": "ValueError",
     "evalue": "invalid literal for int() with base 10: ''",
     "output_type": "error",
     "traceback": [
      "\u001b[31m---------------------------------------------------------------------------\u001b[39m",
      "\u001b[31mValueError\u001b[39m                                Traceback (most recent call last)",
      "\u001b[36mCell\u001b[39m\u001b[36m \u001b[39m\u001b[32mIn[82]\u001b[39m\u001b[32m, line 1\u001b[39m\n\u001b[32m----> \u001b[39m\u001b[32m1\u001b[39m n=\u001b[38;5;28;43mint\u001b[39;49m\u001b[43m(\u001b[49m\u001b[38;5;28;43minput\u001b[39;49m\u001b[43m(\u001b[49m\u001b[33;43m\"\u001b[39;49m\u001b[33;43mEnter the Number: \u001b[39;49m\u001b[33;43m\"\u001b[39;49m\u001b[43m)\u001b[49m\u001b[43m)\u001b[49m\n\u001b[32m      2\u001b[39m \u001b[38;5;28;01mfor\u001b[39;00m i \u001b[38;5;129;01min\u001b[39;00m \u001b[38;5;28mrange\u001b[39m(\u001b[32m1\u001b[39m,n+\u001b[32m1\u001b[39m):\n\u001b[32m      3\u001b[39m     \u001b[38;5;28mprint\u001b[39m(i,\u001b[38;5;28moct\u001b[39m(i)[\u001b[32m2\u001b[39m:],\n\u001b[32m      4\u001b[39m                 \u001b[38;5;28mhex\u001b[39m(i)[\u001b[32m2\u001b[39m:],\n\u001b[32m      5\u001b[39m                 \u001b[38;5;28mbin\u001b[39m(i)[\u001b[32m2\u001b[39m:]\n\u001b[32m      6\u001b[39m           ,sep=\u001b[33m\"\u001b[39m\u001b[38;5;130;01m\\t\u001b[39;00m\u001b[33m\"\u001b[39m)\n",
      "\u001b[31mValueError\u001b[39m: invalid literal for int() with base 10: ''"
     ]
    }
   ],
   "source": [
    "n=int(input(\"Enter the Number: \"))\n",
    "for i in range(1,n+1):\n",
    "    print(i,oct(i)[2:],\n",
    "                hex(i)[2:],\n",
    "                bin(i)[2:]\n",
    "          ,sep=\"\\t\")"
   ]
  },
  {
   "cell_type": "code",
   "execution_count": null,
   "id": "25d3dc8b",
   "metadata": {},
   "outputs": [
    {
     "data": {
      "text/plain": [
       "'11'"
      ]
     },
     "execution_count": 46,
     "metadata": {},
     "output_type": "execute_result"
    }
   ],
   "source": [
    "oct(9)[2:]"
   ]
  },
  {
   "cell_type": "code",
   "execution_count": null,
   "id": "22a2b4f0",
   "metadata": {},
   "outputs": [
    {
     "data": {
      "text/plain": [
       "'0xa'"
      ]
     },
     "execution_count": 40,
     "metadata": {},
     "output_type": "execute_result"
    }
   ],
   "source": [
    "hex(10)"
   ]
  },
  {
   "cell_type": "code",
   "execution_count": null,
   "id": "172d68eb",
   "metadata": {},
   "outputs": [
    {
     "data": {
      "text/plain": [
       "'0b1001'"
      ]
     },
     "execution_count": 42,
     "metadata": {},
     "output_type": "execute_result"
    }
   ],
   "source": [
    "bin(9)"
   ]
  },
  {
   "cell_type": "code",
   "execution_count": null,
   "id": "b022d2dd",
   "metadata": {},
   "outputs": [],
   "source": []
  },
  {
   "cell_type": "code",
   "execution_count": 83,
   "id": "76a00280",
   "metadata": {},
   "outputs": [
    {
     "name": "stdout",
     "output_type": "stream",
     "text": [
      " # \n",
      "e\n",
      " # \n",
      "d\n",
      " # \n",
      "c\n",
      " # \n",
      "b\n",
      " # \n",
      "a\n"
     ]
    }
   ],
   "source": [
    "n=int(input(\"Enter the Number: \"))\n",
    "for i in range(n-1,-1,-1):\n",
    "    print(\"*\"*(i-4),\"#\",\"*\"*(i-4))\n",
    "    print(chr(97+i))"
   ]
  },
  {
   "cell_type": "code",
   "execution_count": 35,
   "id": "739543fd",
   "metadata": {},
   "outputs": [
    {
     "name": "stdout",
     "output_type": "stream",
     "text": [
      "not prime\n"
     ]
    }
   ],
   "source": [
    "# question 1: find the program for the finding the prime number\n",
    "a=4\n",
    "for i in range(2,a//2+1):\n",
    "    if i%2==0:\n",
    "        print(\"not prime\")\n",
    "        break\n",
    "else:\n",
    "    print(\"prime\")\n"
   ]
  },
  {
   "cell_type": "code",
   "execution_count": 11,
   "id": "892549b6",
   "metadata": {},
   "outputs": [
    {
     "name": "stdout",
     "output_type": "stream",
     "text": [
      "Pallandrom\n"
     ]
    }
   ],
   "source": [
    "#question 2: find the program for the find the palandrom\n",
    "s=\"title\"\n",
    "s=\"abcba\"\n",
    "if s[::-1]==s:\n",
    "    print(\"Pallandrom\")\n",
    "else:\n",
    "    print(\"not\")\n"
   ]
  },
  {
   "cell_type": "code",
   "execution_count": null,
   "id": "2640be29",
   "metadata": {},
   "outputs": [],
   "source": [
    "## Question 3: write a program for the swap the 2 numbers \n",
    "a,b=b,a"
   ]
  },
  {
   "cell_type": "code",
   "execution_count": 22,
   "id": "e652bef1",
   "metadata": {},
   "outputs": [
    {
     "data": {
      "text/plain": [
       "{1: 'mon', 2: 'tues', 3: 'wed'}"
      ]
     },
     "execution_count": 22,
     "metadata": {},
     "output_type": "execute_result"
    }
   ],
   "source": [
    "#question 4: write a prgrom for the print the date in the way like on the 1 is monday and so on\n",
    "days=[\"mon\",\"tues\",\"wed\"]\n",
    "week=dict()\n",
    "for day_number,day in enumerate(days,start=1):\n",
    "    week[day_number]=day\n",
    "\n",
    "week"
   ]
  },
  {
   "cell_type": "code",
   "execution_count": 40,
   "id": "4e2a3579",
   "metadata": {},
   "outputs": [
    {
     "name": "stdout",
     "output_type": "stream",
     "text": [
      "1 is prime\n",
      "2 is prime\n",
      "3 is prime\n",
      "not a prime\n",
      "not a prime\n",
      "not a prime\n",
      "not a prime\n",
      "not a prime\n",
      "not a prime\n",
      "not a prime\n"
     ]
    }
   ],
   "source": [
    "## Write a program to print the prime number upto n \n",
    "n=10\n",
    "for i in range(1,n+1):\n",
    "    for j in range(2,(i//2)+1):\n",
    "        if j%2==0:\n",
    "            print(\"not a prime\")\n",
    "            break\n",
    "    else:\n",
    "        print(f\"{i} is prime\")"
   ]
  },
  {
   "cell_type": "code",
   "execution_count": null,
   "id": "003ae6f1",
   "metadata": {},
   "outputs": [
    {
     "name": "stdout",
     "output_type": "stream",
     "text": [
      "not a prime\n",
      "Prime\n"
     ]
    }
   ],
   "source": [
    "i=int(input(\"Enter the Number: \"))\n",
    "for j in range(2,i//2+1):\n",
    "    if j%2==0:\n",
    "        print(\"not a prime\")\n",
    "        break\n",
    "else:\n",
    "    print(\"Prime\")"
   ]
  },
  {
   "cell_type": "code",
   "execution_count": 73,
   "id": "c398e4d0",
   "metadata": {},
   "outputs": [
    {
     "name": "stdout",
     "output_type": "stream",
     "text": [
      "2\n",
      "3\n",
      "Not a prime\n"
     ]
    }
   ],
   "source": [
    "n=int(input(\"enter the number: \"))\n",
    "val=0\n",
    "for i in range(2,int(n**0.5)+1):\n",
    "    print(i)\n",
    "    if n%i==0:\n",
    "        val=val+1\n",
    "    \n",
    "if val==0:\n",
    "    print(\"This is prime\")\n",
    "else:\n",
    "    print(\"Not a prime\")"
   ]
  },
  {
   "cell_type": "code",
   "execution_count": null,
   "id": "417a73b9",
   "metadata": {},
   "outputs": [],
   "source": []
  },
  {
   "cell_type": "code",
   "execution_count": 6,
   "id": "d04853e2",
   "metadata": {},
   "outputs": [
    {
     "ename": "SyntaxError",
     "evalue": "at least one argument must precede / (3912557477.py, line 1)",
     "output_type": "error",
     "traceback": [
      "  \u001b[36mCell\u001b[39m\u001b[36m \u001b[39m\u001b[32mIn[6]\u001b[39m\u001b[32m, line 1\u001b[39m\n\u001b[31m    \u001b[39m\u001b[31mdef fun(/,a,b,c=0):\u001b[39m\n            ^\n\u001b[31mSyntaxError\u001b[39m\u001b[31m:\u001b[39m at least one argument must precede /\n"
     ]
    }
   ],
   "source": [
    "def fun(/,a,b,c=0):\n",
    "    print(a,b)\n",
    "fun(a=2,b=8)"
   ]
  },
  {
   "cell_type": "code",
   "execution_count": 10,
   "id": "3aff9af2",
   "metadata": {},
   "outputs": [
    {
     "ename": "TypeError",
     "evalue": "'a' is an invalid keyword argument for print()",
     "output_type": "error",
     "traceback": [
      "\u001b[31m---------------------------------------------------------------------------\u001b[39m",
      "\u001b[31mTypeError\u001b[39m                                 Traceback (most recent call last)",
      "\u001b[36mCell\u001b[39m\u001b[36m \u001b[39m\u001b[32mIn[10]\u001b[39m\u001b[32m, line 3\u001b[39m\n\u001b[32m      1\u001b[39m \u001b[38;5;28;01mdef\u001b[39;00m\u001b[38;5;250m \u001b[39m\u001b[34mfun\u001b[39m(*,a):\n\u001b[32m      2\u001b[39m     \u001b[38;5;28mprint\u001b[39m(a)\n\u001b[32m----> \u001b[39m\u001b[32m3\u001b[39m \u001b[38;5;28;43mprint\u001b[39;49m\u001b[43m(\u001b[49m\u001b[32;43m2\u001b[39;49m\u001b[43m,\u001b[49m\u001b[32;43m3\u001b[39;49m\u001b[43m,\u001b[49m\u001b[32;43m8\u001b[39;49m\u001b[43m,\u001b[49m\u001b[43ma\u001b[49m\u001b[43m=\u001b[49m\u001b[32;43m29\u001b[39;49m\u001b[43m)\u001b[49m\n",
      "\u001b[31mTypeError\u001b[39m: 'a' is an invalid keyword argument for print()"
     ]
    }
   ],
   "source": [
    "def fun(*,a):\n",
    "    print(a)\n",
    "print(2,3,8,a=29)"
   ]
  },
  {
   "cell_type": "code",
   "execution_count": null,
   "id": "9ce460d5",
   "metadata": {},
   "outputs": [
    {
     "name": "stdout",
     "output_type": "stream",
     "text": [
      "9 8 29\n"
     ]
    }
   ],
   "source": [
    "def case(a,b,/,c):         ## not to remember 1. this is positional like it must by position only\n",
    "                                            #2. work only before given /\n",
    "                            \n",
    "    print(a,b,c)\n",
    "\n",
    "\n",
    "case(9,8,c=29)"
   ]
  },
  {
   "cell_type": "code",
   "execution_count": null,
   "id": "09154363",
   "metadata": {},
   "outputs": [
    {
     "name": "stdout",
     "output_type": "stream",
     "text": [
      "9 8 29\n"
     ]
    }
   ],
   "source": [
    "def case(a,b,*,c):   ## after * we need to give parameter with the name=value only\n",
    "    print(a,b,c)\n",
    "\n",
    "\n",
    "case(9,8,c=29)"
   ]
  },
  {
   "cell_type": "code",
   "execution_count": null,
   "id": "ca08d9a4",
   "metadata": {},
   "outputs": [],
   "source": [
    "s=\"apple\"\n"
   ]
  },
  {
   "cell_type": "code",
   "execution_count": 14,
   "id": "095084ac",
   "metadata": {},
   "outputs": [
    {
     "name": "stdout",
     "output_type": "stream",
     "text": [
      "ank\n"
     ]
    }
   ],
   "source": [
    "n=[\"ank\",\"ant\"]\n",
    "for i in n:\n",
    "    if i.endswith(\"k\"):\n",
    "        print(i)"
   ]
  },
  {
   "cell_type": "code",
   "execution_count": 17,
   "id": "9a50221c",
   "metadata": {},
   "outputs": [
    {
     "data": {
      "text/plain": [
       "'ap        ple'"
      ]
     },
     "execution_count": 17,
     "metadata": {},
     "output_type": "execute_result"
    }
   ],
   "source": [
    "s=\"ap\\tple\"\n",
    "s.expandtabs(tabsize=10)"
   ]
  },
  {
   "cell_type": "code",
   "execution_count": 20,
   "id": "d079fb3a",
   "metadata": {},
   "outputs": [
    {
     "data": {
      "text/plain": [
       "1"
      ]
     },
     "execution_count": 20,
     "metadata": {},
     "output_type": "execute_result"
    }
   ],
   "source": [
    "s=\"Apple\"\n",
    "s.find(\"p\")"
   ]
  },
  {
   "cell_type": "code",
   "execution_count": 24,
   "id": "cb88026b",
   "metadata": {},
   "outputs": [
    {
     "name": "stdout",
     "output_type": "stream",
     "text": [
      "this is thlsks\n"
     ]
    }
   ],
   "source": [
    "a=\"thlsks\"\n",
    "print(f\"this is {a}\")"
   ]
  },
  {
   "cell_type": "code",
   "execution_count": 28,
   "id": "f1e6b751",
   "metadata": {},
   "outputs": [
    {
     "data": {
      "text/plain": [
       "'my age is 2839'"
      ]
     },
     "execution_count": 28,
     "metadata": {},
     "output_type": "execute_result"
    }
   ],
   "source": [
    "age=2839\n",
    "f\"my age is {age}\""
   ]
  },
  {
   "cell_type": "code",
   "execution_count": 30,
   "id": "82115ebd",
   "metadata": {},
   "outputs": [
    {
     "data": {
      "text/plain": [
       "'my name is an and age is 28 adn living in mumbai'"
      ]
     },
     "execution_count": 30,
     "metadata": {},
     "output_type": "execute_result"
    }
   ],
   "source": [
    "name=\"an\"\n",
    "age=28\n",
    "city=\"mumbai\"\n",
    "f\"my name is {name} and age is {age} adn living in {city}\""
   ]
  },
  {
   "cell_type": "code",
   "execution_count": null,
   "id": "7bd8b4d9",
   "metadata": {},
   "outputs": [],
   "source": []
  }
 ],
 "metadata": {
  "kernelspec": {
   "display_name": "myenv",
   "language": "python",
   "name": "python3"
  },
  "language_info": {
   "codemirror_mode": {
    "name": "ipython",
    "version": 3
   },
   "file_extension": ".py",
   "mimetype": "text/x-python",
   "name": "python",
   "nbconvert_exporter": "python",
   "pygments_lexer": "ipython3",
   "version": "3.12.4"
  }
 },
 "nbformat": 4,
 "nbformat_minor": 5
}

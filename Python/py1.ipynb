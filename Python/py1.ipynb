{
 "cells": [
  {
   "cell_type": "code",
   "execution_count": 63,
   "id": "bf90d800",
   "metadata": {},
   "outputs": [
    {
     "name": "stdout",
     "output_type": "stream",
     "text": [
      "10\n"
     ]
    }
   ],
   "source": [
    "print(int(input(\"Enter the first Number: \"))+int(input(\"Enter the 2nd number: \")))"
   ]
  },
  {
   "cell_type": "code",
   "execution_count": 64,
   "id": "be129fe2",
   "metadata": {},
   "outputs": [
    {
     "name": "stdout",
     "output_type": "stream",
     "text": [
      "<class 'int'> 5\n"
     ]
    }
   ],
   "source": [
    "a=5\n",
    "print(type(a),a)"
   ]
  },
  {
   "cell_type": "code",
   "execution_count": 65,
   "id": "c1bee46c",
   "metadata": {},
   "outputs": [
    {
     "name": "stdout",
     "output_type": "stream",
     "text": [
      "-95\n"
     ]
    }
   ],
   "source": [
    "print(~94)"
   ]
  },
  {
   "cell_type": "code",
   "execution_count": 66,
   "id": "4bf6a0fd",
   "metadata": {},
   "outputs": [
    {
     "name": "stdout",
     "output_type": "stream",
     "text": [
      "0\n"
     ]
    }
   ],
   "source": [
    "print(0 and 1 )"
   ]
  },
  {
   "cell_type": "code",
   "execution_count": 67,
   "id": "61e76b6c",
   "metadata": {},
   "outputs": [
    {
     "name": "stdout",
     "output_type": "stream",
     "text": [
      "False\n"
     ]
    }
   ],
   "source": [
    "print(not 10)"
   ]
  },
  {
   "cell_type": "code",
   "execution_count": 68,
   "id": "117b420e",
   "metadata": {},
   "outputs": [
    {
     "name": "stdout",
     "output_type": "stream",
     "text": [
      "True\n"
     ]
    }
   ],
   "source": [
    "print(not 0)"
   ]
  },
  {
   "cell_type": "code",
   "execution_count": 69,
   "id": "b812af63",
   "metadata": {},
   "outputs": [
    {
     "name": "stdout",
     "output_type": "stream",
     "text": [
      "2\n"
     ]
    }
   ],
   "source": [
    "print(2&6)"
   ]
  },
  {
   "cell_type": "code",
   "execution_count": 70,
   "id": "ebba089d",
   "metadata": {},
   "outputs": [
    {
     "name": "stdout",
     "output_type": "stream",
     "text": [
      "9\n"
     ]
    },
    {
     "data": {
      "text/plain": [
       "0"
      ]
     },
     "execution_count": 70,
     "metadata": {},
     "output_type": "execute_result"
    }
   ],
   "source": [
    "print(9&9)\n",
    "8&2"
   ]
  },
  {
   "cell_type": "code",
   "execution_count": 71,
   "id": "61b30c3f",
   "metadata": {},
   "outputs": [
    {
     "name": "stdout",
     "output_type": "stream",
     "text": [
      "1536\n"
     ]
    }
   ],
   "source": [
    "print(6<<8)"
   ]
  },
  {
   "cell_type": "code",
   "execution_count": 72,
   "id": "f3266fc8",
   "metadata": {},
   "outputs": [
    {
     "name": "stdout",
     "output_type": "stream",
     "text": [
      "1536\n"
     ]
    }
   ],
   "source": [
    "print(6*2**8)"
   ]
  },
  {
   "cell_type": "code",
   "execution_count": 73,
   "id": "a78ebd09",
   "metadata": {},
   "outputs": [
    {
     "name": "stdout",
     "output_type": "stream",
     "text": [
      "4301791880 4301791880\n"
     ]
    }
   ],
   "source": [
    "a=2\n",
    "b=2\n",
    "print(id(a),id(b))"
   ]
  },
  {
   "cell_type": "code",
   "execution_count": 74,
   "id": "d85afc98",
   "metadata": {},
   "outputs": [
    {
     "data": {
      "text/plain": [
       "True"
      ]
     },
     "execution_count": 74,
     "metadata": {},
     "output_type": "execute_result"
    }
   ],
   "source": [
    "a is b"
   ]
  },
  {
   "cell_type": "code",
   "execution_count": 75,
   "id": "c0d3c40e",
   "metadata": {},
   "outputs": [
    {
     "name": "stdout",
     "output_type": "stream",
     "text": [
      "4301792072 4301792072\n"
     ]
    }
   ],
   "source": [
    "a=8\n",
    "b=9\n",
    "b=a\n",
    "print(id(a),id(b))"
   ]
  },
  {
   "cell_type": "code",
   "execution_count": 76,
   "id": "d2520388",
   "metadata": {},
   "outputs": [
    {
     "name": "stdout",
     "output_type": "stream",
     "text": [
      "odd\n"
     ]
    }
   ],
   "source": [
    "# ternary operations\n",
    "a=input()[-1]\n",
    "if int(a)%2==0:\n",
    "    print(\"even\")\n",
    "else:\n",
    "    print(\"odd\")"
   ]
  },
  {
   "cell_type": "code",
   "execution_count": 77,
   "id": "8b24fa88",
   "metadata": {},
   "outputs": [
    {
     "name": "stdout",
     "output_type": "stream",
     "text": [
      "ollleH\n"
     ]
    }
   ],
   "source": [
    "s=\"Helllo\"\n",
    "print(s[::-1])"
   ]
  },
  {
   "cell_type": "code",
   "execution_count": 78,
   "id": "6a5d5dc8",
   "metadata": {},
   "outputs": [
    {
     "name": "stdout",
     "output_type": "stream",
     "text": [
      "False\n"
     ]
    }
   ],
   "source": [
    "print(s[::-1]==s)"
   ]
  },
  {
   "cell_type": "code",
   "execution_count": 79,
   "id": "7121febd",
   "metadata": {},
   "outputs": [],
   "source": [
    "## String"
   ]
  },
  {
   "cell_type": "code",
   "execution_count": 80,
   "id": "8e9653de",
   "metadata": {},
   "outputs": [
    {
     "name": "stdout",
     "output_type": "stream",
     "text": [
      "*****\n",
      "****\n",
      "***\n",
      "**\n",
      "*\n"
     ]
    }
   ],
   "source": [
    "for i in range(5,0,-1):\n",
    "    print(i*\"*\")"
   ]
  },
  {
   "cell_type": "code",
   "execution_count": 81,
   "id": "14752587",
   "metadata": {},
   "outputs": [
    {
     "name": "stdout",
     "output_type": "stream",
     "text": [
      "*****\n",
      "****\n",
      "***\n",
      "**\n",
      "*\n"
     ]
    },
    {
     "data": {
      "text/plain": [
       "[None, None, None, None, None]"
      ]
     },
     "execution_count": 81,
     "metadata": {},
     "output_type": "execute_result"
    }
   ],
   "source": [
    "[print(i*\"*\") for i in range(5,0,-1)]"
   ]
  },
  {
   "cell_type": "code",
   "execution_count": 82,
   "id": "763ccaa1",
   "metadata": {},
   "outputs": [
    {
     "ename": "ValueError",
     "evalue": "invalid literal for int() with base 10: ''",
     "output_type": "error",
     "traceback": [
      "\u001b[31m---------------------------------------------------------------------------\u001b[39m",
      "\u001b[31mValueError\u001b[39m                                Traceback (most recent call last)",
      "\u001b[36mCell\u001b[39m\u001b[36m \u001b[39m\u001b[32mIn[82]\u001b[39m\u001b[32m, line 1\u001b[39m\n\u001b[32m----> \u001b[39m\u001b[32m1\u001b[39m n=\u001b[38;5;28;43mint\u001b[39;49m\u001b[43m(\u001b[49m\u001b[38;5;28;43minput\u001b[39;49m\u001b[43m(\u001b[49m\u001b[33;43m\"\u001b[39;49m\u001b[33;43mEnter the Number: \u001b[39;49m\u001b[33;43m\"\u001b[39;49m\u001b[43m)\u001b[49m\u001b[43m)\u001b[49m\n\u001b[32m      2\u001b[39m \u001b[38;5;28;01mfor\u001b[39;00m i \u001b[38;5;129;01min\u001b[39;00m \u001b[38;5;28mrange\u001b[39m(\u001b[32m1\u001b[39m,n+\u001b[32m1\u001b[39m):\n\u001b[32m      3\u001b[39m     \u001b[38;5;28mprint\u001b[39m(i,\u001b[38;5;28moct\u001b[39m(i)[\u001b[32m2\u001b[39m:],\n\u001b[32m      4\u001b[39m                 \u001b[38;5;28mhex\u001b[39m(i)[\u001b[32m2\u001b[39m:],\n\u001b[32m      5\u001b[39m                 \u001b[38;5;28mbin\u001b[39m(i)[\u001b[32m2\u001b[39m:]\n\u001b[32m      6\u001b[39m           ,sep=\u001b[33m\"\u001b[39m\u001b[38;5;130;01m\\t\u001b[39;00m\u001b[33m\"\u001b[39m)\n",
      "\u001b[31mValueError\u001b[39m: invalid literal for int() with base 10: ''"
     ]
    }
   ],
   "source": [
    "n=int(input(\"Enter the Number: \"))\n",
    "for i in range(1,n+1):\n",
    "    print(i,oct(i)[2:],\n",
    "                hex(i)[2:],\n",
    "                bin(i)[2:]\n",
    "          ,sep=\"\\t\")"
   ]
  },
  {
   "cell_type": "code",
   "execution_count": null,
   "id": "25d3dc8b",
   "metadata": {},
   "outputs": [
    {
     "data": {
      "text/plain": [
       "'11'"
      ]
     },
     "execution_count": 46,
     "metadata": {},
     "output_type": "execute_result"
    }
   ],
   "source": [
    "oct(9)[2:]"
   ]
  },
  {
   "cell_type": "code",
   "execution_count": null,
   "id": "22a2b4f0",
   "metadata": {},
   "outputs": [
    {
     "data": {
      "text/plain": [
       "'0xa'"
      ]
     },
     "execution_count": 40,
     "metadata": {},
     "output_type": "execute_result"
    }
   ],
   "source": [
    "hex(10)"
   ]
  },
  {
   "cell_type": "code",
   "execution_count": null,
   "id": "172d68eb",
   "metadata": {},
   "outputs": [
    {
     "data": {
      "text/plain": [
       "'0b1001'"
      ]
     },
     "execution_count": 42,
     "metadata": {},
     "output_type": "execute_result"
    }
   ],
   "source": [
    "bin(9)"
   ]
  },
  {
   "cell_type": "code",
   "execution_count": null,
   "id": "b022d2dd",
   "metadata": {},
   "outputs": [],
   "source": []
  },
  {
   "cell_type": "code",
   "execution_count": 83,
   "id": "76a00280",
   "metadata": {},
   "outputs": [
    {
     "name": "stdout",
     "output_type": "stream",
     "text": [
      " # \n",
      "e\n",
      " # \n",
      "d\n",
      " # \n",
      "c\n",
      " # \n",
      "b\n",
      " # \n",
      "a\n"
     ]
    }
   ],
   "source": [
    "n=int(input(\"Enter the Number: \"))\n",
    "for i in range(n-1,-1,-1):\n",
    "    print(\"*\"*(i-4),\"#\",\"*\"*(i-4))\n",
    "    print(chr(97+i))"
   ]
  },
  {
   "cell_type": "code",
   "execution_count": 35,
   "id": "739543fd",
   "metadata": {},
   "outputs": [
    {
     "name": "stdout",
     "output_type": "stream",
     "text": [
      "not prime\n"
     ]
    }
   ],
   "source": [
    "# question 1: find the program for the finding the prime number\n",
    "a=4\n",
    "for i in range(2,a//2+1):\n",
    "    if i%2==0:\n",
    "        print(\"not prime\")\n",
    "        break\n",
    "else:\n",
    "    print(\"prime\")\n"
   ]
  },
  {
   "cell_type": "code",
   "execution_count": 11,
   "id": "892549b6",
   "metadata": {},
   "outputs": [
    {
     "name": "stdout",
     "output_type": "stream",
     "text": [
      "Pallandrom\n"
     ]
    }
   ],
   "source": [
    "#question 2: find the program for the find the palandrom\n",
    "s=\"title\"\n",
    "s=\"abcba\"\n",
    "if s[::-1]==s:\n",
    "    print(\"Pallandrom\")\n",
    "else:\n",
    "    print(\"not\")\n"
   ]
  },
  {
   "cell_type": "code",
   "execution_count": null,
   "id": "2640be29",
   "metadata": {},
   "outputs": [],
   "source": [
    "## Question 3: write a program for the swap the 2 numbers \n",
    "a,b=b,a"
   ]
  },
  {
   "cell_type": "code",
   "execution_count": 22,
   "id": "e652bef1",
   "metadata": {},
   "outputs": [
    {
     "data": {
      "text/plain": [
       "{1: 'mon', 2: 'tues', 3: 'wed'}"
      ]
     },
     "execution_count": 22,
     "metadata": {},
     "output_type": "execute_result"
    }
   ],
   "source": [
    "#question 4: write a prgrom for the print the date in the way like on the 1 is monday and so on\n",
    "days=[\"mon\",\"tues\",\"wed\"]\n",
    "week=dict()\n",
    "for day_number,day in enumerate(days,start=1):\n",
    "    week[day_number]=day\n",
    "\n",
    "week"
   ]
  },
  {
   "cell_type": "code",
   "execution_count": null,
   "id": "4e2a3579",
   "metadata": {},
   "outputs": [],
   "source": []
  }
 ],
 "metadata": {
  "kernelspec": {
   "display_name": "myenv",
   "language": "python",
   "name": "python3"
  },
  "language_info": {
   "codemirror_mode": {
    "name": "ipython",
    "version": 3
   },
   "file_extension": ".py",
   "mimetype": "text/x-python",
   "name": "python",
   "nbconvert_exporter": "python",
   "pygments_lexer": "ipython3",
   "version": "3.12.4"
  }
 },
 "nbformat": 4,
 "nbformat_minor": 5
}

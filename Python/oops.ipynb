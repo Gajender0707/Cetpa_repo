{
 "cells": [
  {
   "cell_type": "code",
   "execution_count": 19,
   "id": "1a7c4ca6",
   "metadata": {},
   "outputs": [
    {
     "name": "stdout",
     "output_type": "stream",
     "text": [
      "hii this is init function\n"
     ]
    }
   ],
   "source": [
    "class p:\n",
    "\n",
    "    def __init__(self):\n",
    "        print(\"hii this is init function\")\n",
    "    \n",
    "    def say_name(self):\n",
    "        print(\"hii this is say name function\")\n",
    "\n",
    "p1=p()\n",
    "# p1.say_name()\n"
   ]
  },
  {
   "cell_type": "code",
   "execution_count": 22,
   "id": "ddc4659b",
   "metadata": {},
   "outputs": [
    {
     "name": "stdout",
     "output_type": "stream",
     "text": [
      "hii this is say name function\n"
     ]
    }
   ],
   "source": [
    "def say_name():\n",
    "    print(\"hii this is say name function\")\n",
    "\n",
    "say_name()"
   ]
  },
  {
   "cell_type": "code",
   "execution_count": 41,
   "id": "13ee05a7",
   "metadata": {},
   "outputs": [
    {
     "name": "stdout",
     "output_type": "stream",
     "text": [
      "india\n",
      "sanju\n"
     ]
    }
   ],
   "source": [
    "class p:\n",
    "    # __slots__=[a,b] # it is used for the restrication of the variablee define\n",
    "    def __init__(self,country):\n",
    "        print(country)\n",
    "        # self.country=country\n",
    "        # self.b=b\n",
    "\n",
    "    def name(self,name):\n",
    "        print(name)\n",
    "        # print(country)\n",
    "        # print(self.country)\n",
    "        # print(self.a)\n",
    "\n",
    "p1=p(\"india\")\n",
    "p1.name(\"sanju\")"
   ]
  },
  {
   "cell_type": "code",
   "execution_count": 45,
   "id": "be949e51",
   "metadata": {},
   "outputs": [
    {
     "data": {
      "text/plain": [
       "'role Analst Data'"
      ]
     },
     "execution_count": 45,
     "metadata": {},
     "output_type": "execute_result"
    }
   ],
   "source": [
    "# 4. Coding: Reverse words in a sentence (not characters).\n",
    "s=\"Data Analst role\"\n",
    "\" \".join(s.split()[::-1])\n"
   ]
  },
  {
   "cell_type": "code",
   "execution_count": 49,
   "id": "9dcc474a",
   "metadata": {},
   "outputs": [],
   "source": [
    "## flat the list \n",
    "nested = [[1,2],[3,4],[5,6],[[9,8]]]\n",
    "for i in nested:\n",
    "    pass\n",
    "\n"
   ]
  },
  {
   "cell_type": "code",
   "execution_count": 50,
   "id": "b3b85398",
   "metadata": {},
   "outputs": [
    {
     "name": "stdout",
     "output_type": "stream",
     "text": [
      "hello\n"
     ]
    }
   ],
   "source": [
    "try:\n",
    "    a/b\n",
    "except:\n",
    "    print(\"hello\")"
   ]
  },
  {
   "cell_type": "code",
   "execution_count": 58,
   "id": "887e304f",
   "metadata": {},
   "outputs": [],
   "source": [
    "# pwd\n",
    "import os\n",
    "os.chdir(\"..\")"
   ]
  },
  {
   "cell_type": "code",
   "execution_count": 60,
   "id": "4fe9c3e9",
   "metadata": {},
   "outputs": [
    {
     "name": "stdout",
     "output_type": "stream",
     "text": [
      "pandas\n",
      "numpy\n",
      "\n"
     ]
    }
   ],
   "source": [
    "with open(\"requirements.txt\",\"r\") as f:\n",
    "    print(f.read())"
   ]
  },
  {
   "cell_type": "code",
   "execution_count": 63,
   "id": "d1774f28",
   "metadata": {},
   "outputs": [
    {
     "name": "stdout",
     "output_type": "stream",
     "text": [
      "odd\n"
     ]
    }
   ],
   "source": [
    "a=3\n",
    "try:\n",
    "    assert a%2\n",
    "except:\n",
    "    print(\"even\")\n",
    "else:\n",
    "    print(\"odd\")"
   ]
  },
  {
   "cell_type": "code",
   "execution_count": null,
   "id": "fc6f507c",
   "metadata": {},
   "outputs": [],
   "source": []
  }
 ],
 "metadata": {
  "kernelspec": {
   "display_name": "myenv",
   "language": "python",
   "name": "python3"
  },
  "language_info": {
   "codemirror_mode": {
    "name": "ipython",
    "version": 3
   },
   "file_extension": ".py",
   "mimetype": "text/x-python",
   "name": "python",
   "nbconvert_exporter": "python",
   "pygments_lexer": "ipython3",
   "version": "3.12.4"
  }
 },
 "nbformat": 4,
 "nbformat_minor": 5
}

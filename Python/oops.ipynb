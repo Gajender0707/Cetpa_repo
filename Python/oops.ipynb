{
 "cells": [
  {
   "cell_type": "code",
   "execution_count": 19,
   "id": "1a7c4ca6",
   "metadata": {},
   "outputs": [
    {
     "name": "stdout",
     "output_type": "stream",
     "text": [
      "hii this is init function\n"
     ]
    }
   ],
   "source": [
    "class p:\n",
    "\n",
    "    def __init__(self):\n",
    "        print(\"hii this is init function\")\n",
    "    \n",
    "    def say_name(self):\n",
    "        print(\"hii this is say name function\")\n",
    "\n",
    "p1=p()\n",
    "# p1.say_name()\n"
   ]
  },
  {
   "cell_type": "code",
   "execution_count": 22,
   "id": "ddc4659b",
   "metadata": {},
   "outputs": [
    {
     "name": "stdout",
     "output_type": "stream",
     "text": [
      "hii this is say name function\n"
     ]
    }
   ],
   "source": [
    "def say_name():\n",
    "    print(\"hii this is say name function\")\n",
    "\n",
    "say_name()"
   ]
  },
  {
   "cell_type": "code",
   "execution_count": 41,
   "id": "13ee05a7",
   "metadata": {},
   "outputs": [
    {
     "name": "stdout",
     "output_type": "stream",
     "text": [
      "india\n",
      "sanju\n"
     ]
    }
   ],
   "source": [
    "class p:\n",
    "    # __slots__=[a,b] # it is used for the restrication of the variablee define\n",
    "    def __init__(self,country):\n",
    "        print(country)\n",
    "        # self.country=country\n",
    "        # self.b=b\n",
    "\n",
    "    def name(self,name):\n",
    "        print(name)\n",
    "        # print(country)\n",
    "        # print(self.country)\n",
    "        # print(self.a)\n",
    "\n",
    "p1=p(\"india\")\n",
    "p1.name(\"sanju\")"
   ]
  },
  {
   "cell_type": "code",
   "execution_count": 45,
   "id": "be949e51",
   "metadata": {},
   "outputs": [
    {
     "data": {
      "text/plain": [
       "'role Analst Data'"
      ]
     },
     "execution_count": 45,
     "metadata": {},
     "output_type": "execute_result"
    }
   ],
   "source": [
    "# 4. Coding: Reverse words in a sentence (not characters).\n",
    "s=\"Data Analst role\"\n",
    "\" \".join(s.split()[::-1])\n"
   ]
  },
  {
   "cell_type": "code",
   "execution_count": 49,
   "id": "9dcc474a",
   "metadata": {},
   "outputs": [],
   "source": [
    "## flat the list \n",
    "nested = [[1,2],[3,4],[5,6],[[9,8]]]\n",
    "for i in nested:\n",
    "    pass\n",
    "\n"
   ]
  },
  {
   "cell_type": "code",
   "execution_count": 50,
   "id": "b3b85398",
   "metadata": {},
   "outputs": [
    {
     "name": "stdout",
     "output_type": "stream",
     "text": [
      "hello\n"
     ]
    }
   ],
   "source": [
    "try:\n",
    "    a/b\n",
    "except:\n",
    "    print(\"hello\")"
   ]
  },
  {
   "cell_type": "code",
   "execution_count": 58,
   "id": "887e304f",
   "metadata": {},
   "outputs": [],
   "source": [
    "# pwd\n",
    "import os\n",
    "os.chdir(\"..\")"
   ]
  },
  {
   "cell_type": "code",
   "execution_count": 60,
   "id": "4fe9c3e9",
   "metadata": {},
   "outputs": [
    {
     "name": "stdout",
     "output_type": "stream",
     "text": [
      "pandas\n",
      "numpy\n",
      "\n"
     ]
    }
   ],
   "source": [
    "with open(\"requirements.txt\",\"r\") as f:\n",
    "    print(f.read())"
   ]
  },
  {
   "cell_type": "code",
   "execution_count": 63,
   "id": "d1774f28",
   "metadata": {},
   "outputs": [
    {
     "name": "stdout",
     "output_type": "stream",
     "text": [
      "odd\n"
     ]
    }
   ],
   "source": [
    "a=3\n",
    "try:\n",
    "    assert a%2\n",
    "except:\n",
    "    print(\"even\")\n",
    "else:\n",
    "    print(\"odd\")"
   ]
  },
  {
   "cell_type": "markdown",
   "id": "c2766ebe",
   "metadata": {},
   "source": [
    "### First of all the python code do in a object file and then compile the code and on that code python interpreter work\n",
    "### then the if the synatx error then do not compile but if there is not syntax error  and then handle by interpreter"
   ]
  },
  {
   "cell_type": "code",
   "execution_count": 5,
   "id": "fc6f507c",
   "metadata": {},
   "outputs": [
    {
     "ename": "SyntaxError",
     "evalue": "incomplete input (3867269246.py, line 3)",
     "output_type": "error",
     "traceback": [
      "  \u001b[36mCell\u001b[39m\u001b[36m \u001b[39m\u001b[32mIn[5]\u001b[39m\u001b[32m, line 3\u001b[39m\n\u001b[31m    \u001b[39m\u001b[31mprint(a\u001b[39m\n              ^\n\u001b[31mSyntaxError\u001b[39m\u001b[31m:\u001b[39m incomplete input\n"
     ]
    }
   ],
   "source": [
    "print(\"hello\")\n",
    "print(\"what\")\n",
    "print(a   "
   ]
  },
  {
   "cell_type": "code",
   "execution_count": 6,
   "id": "a508b055",
   "metadata": {},
   "outputs": [
    {
     "data": {
      "text/plain": [
       "np.float64(20.0)"
      ]
     },
     "execution_count": 6,
     "metadata": {},
     "output_type": "execute_result"
    }
   ],
   "source": [
    "import numpy as np\n",
    "a=[10,20,30]\n",
    "np.mean(a)"
   ]
  },
  {
   "cell_type": "code",
   "execution_count": null,
   "id": "f35fc50f",
   "metadata": {},
   "outputs": [
    {
     "data": {
      "text/plain": [
       "20.0"
      ]
     },
     "execution_count": 7,
     "metadata": {},
     "output_type": "execute_result"
    }
   ],
   "source": [
    "sum(a)/len(a)"
   ]
  },
  {
   "cell_type": "code",
   "execution_count": 8,
   "id": "764c01ae",
   "metadata": {},
   "outputs": [
    {
     "data": {
      "text/plain": [
       "78.0"
      ]
     },
     "execution_count": 8,
     "metadata": {},
     "output_type": "execute_result"
    }
   ],
   "source": [
    "((18*80)+(12*75))/30"
   ]
  },
  {
   "cell_type": "code",
   "execution_count": 11,
   "id": "e828510c",
   "metadata": {},
   "outputs": [
    {
     "data": {
      "text/plain": [
       "62"
      ]
     },
     "execution_count": 11,
     "metadata": {},
     "output_type": "execute_result"
    }
   ],
   "source": [
    "a=\"38 1 8 9 6\"\n",
    "sum([int(i) for i in a.split()])"
   ]
  },
  {
   "cell_type": "code",
   "execution_count": 13,
   "id": "71115f90",
   "metadata": {},
   "outputs": [
    {
     "data": {
      "text/plain": [
       "['38', '1', '8', '9', '6']"
      ]
     },
     "execution_count": 13,
     "metadata": {},
     "output_type": "execute_result"
    }
   ],
   "source": [
    "a.split()"
   ]
  },
  {
   "cell_type": "code",
   "execution_count": null,
   "id": "71f85c2d",
   "metadata": {},
   "outputs": [],
   "source": []
  }
 ],
 "metadata": {
  "kernelspec": {
   "display_name": "myenv",
   "language": "python",
   "name": "python3"
  },
  "language_info": {
   "codemirror_mode": {
    "name": "ipython",
    "version": 3
   },
   "file_extension": ".py",
   "mimetype": "text/x-python",
   "name": "python",
   "nbconvert_exporter": "python",
   "pygments_lexer": "ipython3",
   "version": "3.12.4"
  }
 },
 "nbformat": 4,
 "nbformat_minor": 5
}

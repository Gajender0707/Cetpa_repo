{
 "cells": [
  {
   "cell_type": "code",
   "execution_count": 19,
   "id": "1a7c4ca6",
   "metadata": {},
   "outputs": [
    {
     "name": "stdout",
     "output_type": "stream",
     "text": [
      "hii this is init function\n"
     ]
    }
   ],
   "source": [
    "class p:\n",
    "\n",
    "    def __init__(self):\n",
    "        print(\"hii this is init function\")\n",
    "    \n",
    "    def say_name(self):\n",
    "        print(\"hii this is say name function\")\n",
    "\n",
    "p1=p()\n",
    "# p1.say_name()\n"
   ]
  },
  {
   "cell_type": "code",
   "execution_count": 22,
   "id": "ddc4659b",
   "metadata": {},
   "outputs": [
    {
     "name": "stdout",
     "output_type": "stream",
     "text": [
      "hii this is say name function\n"
     ]
    }
   ],
   "source": [
    "def say_name():\n",
    "    print(\"hii this is say name function\")\n",
    "\n",
    "say_name()"
   ]
  },
  {
   "cell_type": "code",
   "execution_count": 41,
   "id": "13ee05a7",
   "metadata": {},
   "outputs": [
    {
     "name": "stdout",
     "output_type": "stream",
     "text": [
      "india\n",
      "sanju\n"
     ]
    }
   ],
   "source": [
    "class p:\n",
    "    # __slots__=[a,b] # it is used for the restrication of the variablee define\n",
    "    def __init__(self,country):\n",
    "        print(country)\n",
    "        # self.country=country\n",
    "        # self.b=b\n",
    "\n",
    "    def name(self,name):\n",
    "        print(name)\n",
    "        # print(country)\n",
    "        # print(self.country)\n",
    "        # print(self.a)\n",
    "\n",
    "p1=p(\"india\")\n",
    "p1.name(\"sanju\")"
   ]
  },
  {
   "cell_type": "code",
   "execution_count": null,
   "id": "be949e51",
   "metadata": {},
   "outputs": [],
   "source": []
  }
 ],
 "metadata": {
  "kernelspec": {
   "display_name": "myenv",
   "language": "python",
   "name": "python3"
  },
  "language_info": {
   "codemirror_mode": {
    "name": "ipython",
    "version": 3
   },
   "file_extension": ".py",
   "mimetype": "text/x-python",
   "name": "python",
   "nbconvert_exporter": "python",
   "pygments_lexer": "ipython3",
   "version": "3.12.4"
  }
 },
 "nbformat": 4,
 "nbformat_minor": 5
}

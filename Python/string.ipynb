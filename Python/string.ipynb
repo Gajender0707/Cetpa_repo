{
 "cells": [
  {
   "cell_type": "code",
   "execution_count": 5,
   "id": "c2a91385",
   "metadata": {},
   "outputs": [
    {
     "data": {
      "text/plain": [
       "['This', 'is', 'the', 'Major', 'Ch', 'anges', 'for', 'the', 'fin', 'der']"
      ]
     },
     "execution_count": 5,
     "metadata": {},
     "output_type": "execute_result"
    }
   ],
   "source": [
    "## 8. Whitespace Remover\n",
    "s=\"This       is the Major Ch anges for the fin der\"\n",
    "# s.split()\n",
    "[i.strip() for i in s.split()]"
   ]
  },
  {
   "cell_type": "code",
   "execution_count": 6,
   "id": "ef00dbb1",
   "metadata": {},
   "outputs": [
    {
     "data": {
      "text/plain": [
       "'This       is the Major Ch anges for the fin der'"
      ]
     },
     "execution_count": 6,
     "metadata": {},
     "output_type": "execute_result"
    }
   ],
   "source": [
    "s"
   ]
  },
  {
   "cell_type": "code",
   "execution_count": 7,
   "id": "94607936",
   "metadata": {},
   "outputs": [
    {
     "name": "stdout",
     "output_type": "stream",
     "text": [
      "5\n"
     ]
    }
   ],
   "source": [
    "a=\"Apple\"\n",
    "c=0\n",
    "for i in a:\n",
    "    c=c+1\n",
    "print(c)"
   ]
  },
  {
   "cell_type": "code",
   "execution_count": 13,
   "id": "35be3079",
   "metadata": {},
   "outputs": [
    {
     "name": "stdout",
     "output_type": "stream",
     "text": [
      "11\n",
      "22\n"
     ]
    }
   ],
   "source": [
    "# Program 6: Count Vowels and Consonants\n",
    "v=0\n",
    "c=0\n",
    "for i in s.split():\n",
    "    for j in i:\n",
    "        if j.lower() in \"aeiou\":\n",
    "            v=v+1\n",
    "        else:\n",
    "            c=c+1\n",
    "print(v)\n",
    "print(c)\n"
   ]
  },
  {
   "cell_type": "code",
   "execution_count": 20,
   "id": "859bd025",
   "metadata": {},
   "outputs": [
    {
     "name": "stdout",
     "output_type": "stream",
     "text": [
      "Vowels: 11\n",
      "Consonants: 22\n"
     ]
    }
   ],
   "source": [
    "s\n",
    "vowels = \"aeiouAEIOU\"\n",
    "v_count = 0\n",
    "c_count = 0\n",
    "for ch in s:\n",
    "    if ch.isalpha():\n",
    "        if ch in vowels:\n",
    "            v_count += 1\n",
    "        else:\n",
    "            c_count += 1\n",
    "print(\"Vowels:\", v_count)\n",
    "print(\"Consonants:\", c_count)"
   ]
  },
  {
   "cell_type": "code",
   "execution_count": 21,
   "id": "548e2432",
   "metadata": {},
   "outputs": [
    {
     "data": {
      "text/plain": [
       "'!\"#$%&\\'()*+,-./:;<=>?@[\\\\]^_`{|}~'"
      ]
     },
     "execution_count": 21,
     "metadata": {},
     "output_type": "execute_result"
    }
   ],
   "source": [
    "import string \n",
    "string.punctuation"
   ]
  },
  {
   "cell_type": "code",
   "execution_count": 26,
   "id": "188b71e5",
   "metadata": {},
   "outputs": [
    {
     "data": {
      "text/plain": [
       "['banana', 'apple']"
      ]
     },
     "execution_count": 26,
     "metadata": {},
     "output_type": "execute_result"
    }
   ],
   "source": [
    "s1= \"apple apple banana apple\"\n",
    "list(set(s1.split()))\n"
   ]
  },
  {
   "cell_type": "code",
   "execution_count": 35,
   "id": "c1a3ea41",
   "metadata": {},
   "outputs": [
    {
     "name": "stdout",
     "output_type": "stream",
     "text": [
      "I\n",
      "am\n",
      "years\n",
      "and\n",
      "months\n",
      "old\n"
     ]
    },
    {
     "data": {
      "text/plain": [
       "'2510'"
      ]
     },
     "execution_count": 35,
     "metadata": {},
     "output_type": "execute_result"
    }
   ],
   "source": [
    "## 9. Digit Extractor\n",
    "\"\"\"Extract all digits from a string and form a number.\n",
    "Input: \"I am 25 years and 10 months old\"\n",
    "Output: 2510\"\"\"\n",
    "s=\"I am 25 years and 10 months old\"\n",
    "i_l=[]\n",
    "for i in s.split():\n",
    "    try:\n",
    "        i=int(i)\n",
    "        i_l.append(i)\n",
    "    except:\n",
    "        print(i)\n",
    "\n",
    "\"\".join([str(i) for i in i_l])\n"
   ]
  },
  {
   "cell_type": "code",
   "execution_count": 42,
   "id": "4a9862f4",
   "metadata": {},
   "outputs": [
    {
     "data": {
      "text/plain": [
       "'olleH dlroW'"
      ]
     },
     "execution_count": 42,
     "metadata": {},
     "output_type": "execute_result"
    }
   ],
   "source": [
    "\"\"\"10. Word Reverser in Sentence\n",
    "Reverse each word in a sentence but keep the word order the same.\n",
    "Input: \"Hello World\"\n",
    "Output: \"olleH dlroW\"\"\"\n",
    "\n",
    "s=\"Hello World\"\n",
    "\" \".join([i[::-1] for i in s.split()])"
   ]
  },
  {
   "cell_type": "code",
   "execution_count": null,
   "id": "a40599aa",
   "metadata": {},
   "outputs": [],
   "source": []
  }
 ],
 "metadata": {
  "kernelspec": {
   "display_name": "myenv",
   "language": "python",
   "name": "python3"
  },
  "language_info": {
   "codemirror_mode": {
    "name": "ipython",
    "version": 3
   },
   "file_extension": ".py",
   "mimetype": "text/x-python",
   "name": "python",
   "nbconvert_exporter": "python",
   "pygments_lexer": "ipython3",
   "version": "3.12.4"
  }
 },
 "nbformat": 4,
 "nbformat_minor": 5
}

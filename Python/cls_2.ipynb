{
 "cells": [
  {
   "cell_type": "code",
   "execution_count": 2,
   "id": "1c65e441",
   "metadata": {},
   "outputs": [
    {
     "data": {
      "text/plain": [
       "True"
      ]
     },
     "execution_count": 2,
     "metadata": {},
     "output_type": "execute_result"
    }
   ],
   "source": [
    "a = [1,2,3]\n",
    "b = [1,2,3]\n",
    "a == b"
   ]
  },
  {
   "cell_type": "code",
   "execution_count": 8,
   "id": "9dc63ce4",
   "metadata": {},
   "outputs": [
    {
     "data": {
      "text/plain": [
       "22"
      ]
     },
     "execution_count": 8,
     "metadata": {},
     "output_type": "execute_result"
    }
   ],
   "source": [
    "## Lambda Function\n",
    "b= lambda a,b:a+b  if a>10 and b>10  else a-b\n",
    "b(11,11)"
   ]
  },
  {
   "cell_type": "code",
   "execution_count": 11,
   "id": "6a03ae0c",
   "metadata": {},
   "outputs": [
    {
     "data": {
      "text/plain": [
       "24"
      ]
     },
     "execution_count": 11,
     "metadata": {},
     "output_type": "execute_result"
    }
   ],
   "source": [
    "(lambda a,b:a*b)(6,4)"
   ]
  },
  {
   "cell_type": "code",
   "execution_count": 20,
   "id": "499fc6c6",
   "metadata": {},
   "outputs": [
    {
     "data": {
      "text/plain": [
       "['2 is even', '3 is Odd', '7 is Odd', '9 is Odd']"
      ]
     },
     "execution_count": 20,
     "metadata": {},
     "output_type": "execute_result"
    }
   ],
   "source": [
    "[f\"{i} is even\" if i%2==0  else f\"{i} is Odd\" for i in [2,3,7,9]]"
   ]
  },
  {
   "cell_type": "code",
   "execution_count": 23,
   "id": "fe77879f",
   "metadata": {},
   "outputs": [
    {
     "data": {
      "text/plain": [
       "['2 is Even', '8 is Even', '3 is Odd', '9 is Odd', '11 is Odd']"
      ]
     },
     "execution_count": 23,
     "metadata": {},
     "output_type": "execute_result"
    }
   ],
   "source": [
    "[(lambda a: f\"{a} is Even\" if a%2==0 else f\"{a} is Odd\")(i) for i in [2,8,3,9,11]]"
   ]
  },
  {
   "cell_type": "code",
   "execution_count": 36,
   "id": "ea9527b3",
   "metadata": {},
   "outputs": [
    {
     "data": {
      "text/plain": [
       "[12, 15, 18, 21]"
      ]
     },
     "execution_count": 36,
     "metadata": {},
     "output_type": "execute_result"
    }
   ],
   "source": [
    "list(map(lambda a,b,c: a+b+c,[1,3,5,7],[10,11,12,13],[1,1,1,1,1,1])) ## map take the arguments one is function and another is iterable/* iterables but arguments\n",
    "#in the function must be same\n",
    "    \n"
   ]
  },
  {
   "cell_type": "code",
   "execution_count": 39,
   "id": "7d7a1135",
   "metadata": {},
   "outputs": [
    {
     "data": {
      "text/plain": [
       "[8]"
      ]
     },
     "execution_count": 39,
     "metadata": {},
     "output_type": "execute_result"
    }
   ],
   "source": [
    "list(map(lambda a: a*2,[4]))"
   ]
  },
  {
   "cell_type": "code",
   "execution_count": 48,
   "id": "f5427caf",
   "metadata": {},
   "outputs": [
    {
     "data": {
      "text/plain": [
       "[2, 8, 9]"
      ]
     },
     "execution_count": 48,
     "metadata": {},
     "output_type": "execute_result"
    }
   ],
   "source": [
    "# write a program to add the all the numbser of the list\n",
    "s=\"1 2 3 4 5\"\n",
    "[int(i) for i in input(\"Enter the Numbers in one Line \").split()]"
   ]
  },
  {
   "cell_type": "code",
   "execution_count": 47,
   "id": "1b29c945",
   "metadata": {},
   "outputs": [
    {
     "data": {
      "text/plain": [
       "[8, 2]"
      ]
     },
     "execution_count": 47,
     "metadata": {},
     "output_type": "execute_result"
    }
   ],
   "source": [
    "list(map(int,input().split()))"
   ]
  },
  {
   "cell_type": "code",
   "execution_count": 62,
   "id": "8a86ce2d",
   "metadata": {},
   "outputs": [
    {
     "ename": "SyntaxError",
     "evalue": "invalid syntax (2309105741.py, line 1)",
     "output_type": "error",
     "traceback": [
      "  \u001b[36mCell\u001b[39m\u001b[36m \u001b[39m\u001b[32mIn[62]\u001b[39m\u001b[32m, line 1\u001b[39m\n\u001b[31m    \u001b[39m\u001b[31m[ (lambda x: s=s+x)(i) for i in [2,8,2]]\u001b[39m\n                  ^\n\u001b[31mSyntaxError\u001b[39m\u001b[31m:\u001b[39m invalid syntax\n"
     ]
    }
   ],
   "source": [
    "[ (lambda x: s=s+x)(i) for i in [2,8,2]]"
   ]
  },
  {
   "cell_type": "code",
   "execution_count": 67,
   "id": "57669909",
   "metadata": {},
   "outputs": [
    {
     "data": {
      "text/plain": [
       "6"
      ]
     },
     "execution_count": 67,
     "metadata": {},
     "output_type": "execute_result"
    }
   ],
   "source": [
    "def fun(a):\n",
    "    if not a:\n",
    "        return 0\n",
    "    else:\n",
    "        return a[0]+fun(a[1:])\n",
    "\n",
    "fun([1,2,3])"
   ]
  },
  {
   "cell_type": "code",
   "execution_count": 80,
   "id": "d997dd3f",
   "metadata": {},
   "outputs": [
    {
     "data": {
      "text/plain": [
       "<generator object <genexpr> at 0x11eb92cf0>"
      ]
     },
     "execution_count": 80,
     "metadata": {},
     "output_type": "execute_result"
    }
   ],
   "source": [
    "((lambda a: 0 if not a else a[0]+c(a[1:]))(i) for i in [1,2,3])\n"
   ]
  },
  {
   "cell_type": "code",
   "execution_count": null,
   "id": "0adb322e",
   "metadata": {},
   "outputs": [],
   "source": [
    "c=lambda a,i=0: i if len(a)>i "
   ]
  },
  {
   "cell_type": "code",
   "execution_count": 84,
   "id": "8f49682f",
   "metadata": {},
   "outputs": [
    {
     "data": {
      "text/plain": [
       "10"
      ]
     },
     "execution_count": 84,
     "metadata": {},
     "output_type": "execute_result"
    }
   ],
   "source": [
    "from functools import reduce\n",
    "reduce(lambda x,y:x+y,[1,2,3,4]) #its always taken the 2 input and return in a way that \n",
    "#like ((((1+2)+3)+4))"
   ]
  },
  {
   "cell_type": "code",
   "execution_count": null,
   "id": "1b85854b",
   "metadata": {},
   "outputs": [
    {
     "ename": "TypeError",
     "evalue": "<lambda>() takes 1 positional argument but 2 were given",
     "output_type": "error",
     "traceback": [
      "\u001b[31m---------------------------------------------------------------------------\u001b[39m",
      "\u001b[31mTypeError\u001b[39m                                 Traceback (most recent call last)",
      "\u001b[36mCell\u001b[39m\u001b[36m \u001b[39m\u001b[32mIn[83]\u001b[39m\u001b[32m, line 1\u001b[39m\n\u001b[32m----> \u001b[39m\u001b[32m1\u001b[39m \u001b[43mreduce\u001b[49m\u001b[43m(\u001b[49m\u001b[43m \u001b[49m\u001b[38;5;28;43;01mlambda\u001b[39;49;00m\u001b[43m \u001b[49m\u001b[43mx\u001b[49m\u001b[43m:\u001b[49m\u001b[43mx\u001b[49m\u001b[43m,\u001b[49m\u001b[43m[\u001b[49m\u001b[32;43m1\u001b[39;49m\u001b[43m,\u001b[49m\u001b[32;43m2\u001b[39;49m\u001b[43m,\u001b[49m\u001b[32;43m3\u001b[39;49m\u001b[43m]\u001b[49m\u001b[43m)\u001b[49m\n",
      "\u001b[31mTypeError\u001b[39m: <lambda>() takes 1 positional argument but 2 were given"
     ]
    }
   ],
   "source": []
  },
  {
   "cell_type": "code",
   "execution_count": null,
   "id": "a9976579",
   "metadata": {},
   "outputs": [],
   "source": []
  }
 ],
 "metadata": {
  "kernelspec": {
   "display_name": "myenv",
   "language": "python",
   "name": "python3"
  },
  "language_info": {
   "codemirror_mode": {
    "name": "ipython",
    "version": 3
   },
   "file_extension": ".py",
   "mimetype": "text/x-python",
   "name": "python",
   "nbconvert_exporter": "python",
   "pygments_lexer": "ipython3",
   "version": "3.12.4"
  }
 },
 "nbformat": 4,
 "nbformat_minor": 5
}
